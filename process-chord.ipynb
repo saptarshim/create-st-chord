{
 "cells": [
  {
   "cell_type": "code",
   "execution_count": null,
   "metadata": {},
   "outputs": [],
   "source": [
    "def create_chord_list(chord_line):\n",
    "    valid_chord_char = ['A', 'B', 'C', 'D', 'E', 'F', 'G', '#','b', 'm', '7']\n",
    "    valid_chord_modifier = ['#','b', 'm', '7']\n",
    "\n",
    "    chord_list = [[]]\n",
    "    chord_list_count = 0\n",
    "\n",
    "\n",
    "    for index, char in enumerate(chord_line):\n",
    "        #print(\"Index=\", index)\n",
    "        if char in valid_chord_char:\n",
    "\n",
    "            #If this is a chord modifier treat differntly\n",
    "            if char in valid_chord_modifier:\n",
    "                #chord modifier can only happen after a valid Capital chord character \n",
    "                info = chord_list [chord_list_count]\n",
    "                str = info[1]\n",
    "                str = str + char\n",
    "                new_info = [info[0], str]\n",
    "                chord_list [chord_list_count] = new_info    \n",
    "            else:\n",
    "                chord_info = [index, char]\n",
    "                chord_list.append(chord_info)\n",
    "                chord_list_count += 1\n",
    "    \n",
    "    chord_list = chord_list[1:]\n",
    "    return chord_list\n"
   ]
  },
  {
   "cell_type": "code",
   "execution_count": null,
   "metadata": {},
   "outputs": [],
   "source": [
    "def create_ST_lyrics_line_from_list(chord_list, lyrics_line):\n",
    "    combined_chord_lyrics = ' '\n",
    "    lyrics_start_index = 0\n",
    "    #first_time = 1\n",
    "\n",
    "    for chord_info in chord_list:\n",
    "        #print(chord_info)\n",
    "        lyrics_end_index = chord_info[0]\n",
    "        chord_val = chord_info[1]\n",
    "        line_to_add = lyrics_line[lyrics_start_index:lyrics_end_index]\n",
    "        combined_chord_lyrics = combined_chord_lyrics + line_to_add + \"[\" + chord_val + \"]\" \n",
    "        lyrics_start_index = lyrics_end_index \n",
    "\n",
    "\n",
    "    # Now process for any \\n character in the string and remove it\n",
    "        \n",
    "    remove_newline = '\\n'\n",
    "    new_line_index =  combined_chord_lyrics.find(remove_newline)\n",
    "    combined_chord_lyrics = combined_chord_lyrics[:new_line_index] + combined_chord_lyrics[new_line_index + 1:]\n",
    "\n",
    "    return combined_chord_lyrics\n",
    "\n"
   ]
  },
  {
   "cell_type": "code",
   "execution_count": null,
   "metadata": {},
   "outputs": [],
   "source": [
    "input_file = 'input.txt'\n",
    "output_file = 'output.txt'\n",
    "try:\n",
    "    # Read text from the input file\n",
    "    with open(input_file, 'r') as file:\n",
    "        lines = file.readlines()\n",
    "        #print(type(lines))\n",
    "        \n",
    "except FileNotFoundError:\n",
    "    print(\"Error: Input file not found.\")\n",
    "except Exception as e:\n",
    "    print(\"An error occurred:\", str(e))\n",
    "\n",
    "\n",
    "#for element in lines:\n",
    "#    print(element)\n",
    "first_line = lines[0]\n",
    "second_line = lines[1]\n",
    "print(first_line)\n",
    "print(second_line)"
   ]
  },
  {
   "cell_type": "code",
   "execution_count": null,
   "metadata": {},
   "outputs": [],
   "source": [
    "def create_chord_lyrics_list(lines):\n",
    "    chord_and_lyric_list = [[]]\n",
    "    #list_count = 0\n",
    "    #chord = True\n",
    "\n",
    "    length = len(lines)\n",
    "\n",
    "    for i in range (0, length-1, 2):\n",
    "        #print(i)\n",
    "        # Instrument some sort of checking to mak sure it's the\n",
    "        #chord line\n",
    "\n",
    "        chord_line = lines[i].strip()\n",
    "        # Instrument some sort of checking to mak sure it's the\n",
    "        #lyrics line\n",
    "        \n",
    "        lyric_line = lines[i+1].strip()\n",
    "        info = [chord_line, lyric_line]\n",
    "        chord_and_lyric_list.append(info)\n",
    "        \n",
    "    chord_and_lyric_list = chord_and_lyric_list[1:]\n",
    "    return chord_and_lyric_list\n"
   ]
  },
  {
   "cell_type": "code",
   "execution_count": null,
   "metadata": {},
   "outputs": [],
   "source": [
    "chord_and_lyric_list = create_chord_lyrics_list(lines)"
   ]
  },
  {
   "cell_type": "code",
   "execution_count": null,
   "metadata": {},
   "outputs": [],
   "source": [
    "def get_st_chord(chord_and_lyric_list):\n",
    "    st_lyric_list = []\n",
    "    for info in chord_and_lyric_list:\n",
    "        chord_line = info[0]\n",
    "        lyric_line = info[1]\n",
    "        mylist = create_chord_list(chord_line)\n",
    "        st_chord = create_ST_lyrics_line_from_list(mylist,lyric_line)\n",
    "        st_lyric_list.append(st_chord)\n",
    "\n",
    "    st_lyric_list = st_lyric_list[1:]\n",
    "    return st_lyric_list"
   ]
  },
  {
   "cell_type": "code",
   "execution_count": null,
   "metadata": {},
   "outputs": [],
   "source": [
    "st_chord = get_st_chord(chord_and_lyric_list)\n",
    "print(st_chord)"
   ]
  },
  {
   "cell_type": "code",
   "execution_count": null,
   "metadata": {},
   "outputs": [],
   "source": [
    "mylist = create_chord_list(first_line)\n",
    "#print(mylist)"
   ]
  },
  {
   "cell_type": "code",
   "execution_count": null,
   "metadata": {},
   "outputs": [],
   "source": [
    "#print(create_ST_lyrics_line(first_line,second_line))\n",
    "#print(mylist)\n",
    "#st_chord = create_ST_lyrics_line_from_list(mylist,second_line)\n",
    "#print(st_chord)\n",
    "#output = open(output_file, 'w')\n",
    "#output.write(st_chord)\n",
    "\n"
   ]
  }
 ],
 "metadata": {
  "kernelspec": {
   "display_name": "Python 3",
   "language": "python",
   "name": "python3"
  },
  "language_info": {
   "codemirror_mode": {
    "name": "ipython",
    "version": 3
   },
   "file_extension": ".py",
   "mimetype": "text/x-python",
   "name": "python",
   "nbconvert_exporter": "python",
   "pygments_lexer": "ipython3",
   "version": "3.12.1"
  }
 },
 "nbformat": 4,
 "nbformat_minor": 4
}
