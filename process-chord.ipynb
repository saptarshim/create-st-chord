{
 "cells": [
  {
   "cell_type": "code",
   "execution_count": null,
   "metadata": {},
   "outputs": [],
   "source": [
    "def create_chord_list(chord_line):\n",
    "    valid_chord_char = ['A', 'B', 'C', 'D', 'E', 'F', 'G', '#','b', 'm', '7']\n",
    "    valid_chord_modifier = ['#','b', 'm', '7']\n",
    "\n",
    "    chord_list = [[]]\n",
    "    chord_list_count = 0\n",
    "\n",
    "    for index, char in enumerate(chord_line):\n",
    "        #print(\"Index=\", index)\n",
    "        if char in valid_chord_char:\n",
    "\n",
    "            #If this is a chord modifier treat differntly\n",
    "            if char in valid_chord_modifier:\n",
    "                #chord modifier can only happen after a valid Capital chord character \n",
    "                info = chord_list [chord_list_count]\n",
    "                str = info[1]\n",
    "                str = str + char\n",
    "                new_info = [info[0], str]\n",
    "                chord_list [chord_list_count] = new_info    \n",
    "            else:\n",
    "                chord_info = [index, char]\n",
    "                chord_list.append(chord_info)\n",
    "                chord_list_count += 1\n",
    "    \n",
    "    chord_list = chord_list[1:]\n",
    "    return chord_list\n"
   ]
  },
  {
   "cell_type": "code",
   "execution_count": null,
   "metadata": {},
   "outputs": [],
   "source": [
    "\n",
    "def create_ST_lyrics_line_from_list(chord_list, lyrics_line):\n",
    "    combined_chord_lyrics = ''\n",
    "    lyrics_start_index = 0\n",
    "\n",
    "    length = len(chord_list) - 1\n",
    "    for i in range(length):\n",
    "        thisChord = chord_list[i]\n",
    "        nextChord = chord_list[i+1]\n",
    "        chord_val = thisChord[1]\n",
    "        lyrics_start_index = thisChord[0]\n",
    "        lyrics_end_index = nextChord[0]\n",
    "        line_to_add = lyrics_line[lyrics_start_index:lyrics_end_index]\n",
    "        combined_chord_lyrics = combined_chord_lyrics + \"[\" + chord_val + \"]\"+ line_to_add\n",
    "        #After the last chord add the reaming lyrins at the end of the line \n",
    "        if i == (length - 1):\n",
    "            #This is the last iteration\n",
    "            lyrics_len = len(lyrics_line)\n",
    "            if lyrics_len > lyrics_end_index:\n",
    "                combined_chord_lyrics = combined_chord_lyrics + lyrics_line[lyrics_end_index: lyrics_len]\n",
    "    \n",
    "    combined_chord_lyrics.strip()\n",
    "\n",
    "    return combined_chord_lyrics\n",
    "\n"
   ]
  },
  {
   "cell_type": "code",
   "execution_count": null,
   "metadata": {},
   "outputs": [],
   "source": [
    "def create_chord_lyrics_list(lines):\n",
    "    chord_and_lyric_list = [[]]\n",
    "\n",
    "    length = len(lines)\n",
    "\n",
    "    for i in range (0, length-1, 2):\n",
    "\n",
    "        chord_line = lines[i].strip()\n",
    "        # TODO: Instrument some sort of checking to make sure it's the chord line\n",
    "\n",
    "        \n",
    "        #lyrics line\n",
    "        \n",
    "        lyric_line = lines[i+1].strip()\n",
    "        info = [chord_line, lyric_line]\n",
    "        chord_and_lyric_list.append(info)\n",
    "        \n",
    "    chord_and_lyric_list = chord_and_lyric_list[1:]\n",
    "    return chord_and_lyric_list\n"
   ]
  },
  {
   "cell_type": "code",
   "execution_count": null,
   "metadata": {},
   "outputs": [],
   "source": [
    "def get_st_chord(chord_and_lyric_list):\n",
    "    st_lyric_list = []\n",
    " \n",
    "    for info in chord_and_lyric_list:\n",
    "        chord_line = info[0]\n",
    "        lyric_line = info[1]\n",
    "        mylist = create_chord_list(chord_line)\n",
    "        st_chord = create_ST_lyrics_line_from_list(mylist,lyric_line)\n",
    "        st_lyric_list.append(st_chord)\n",
    "\n",
    "    return st_lyric_list\n"
   ]
  },
  {
   "cell_type": "code",
   "execution_count": null,
   "metadata": {},
   "outputs": [],
   "source": [
    "input_file = 'input.txt'\n",
    "output_file = 'output.txt'\n"
   ]
  },
  {
   "cell_type": "code",
   "execution_count": null,
   "metadata": {},
   "outputs": [],
   "source": [
    "try:\n",
    "    # Read text from the input file\n",
    "    with open(input_file, 'r') as file:\n",
    "        lines = file.readlines()\n",
    "        #print(type(lines))\n",
    "        \n",
    "except FileNotFoundError:\n",
    "    print(\"Error: Input file not found.\")\n",
    "except Exception as e:\n",
    "    print(\"An error occurred:\", str(e))\n",
    "\n"
   ]
  },
  {
   "cell_type": "code",
   "execution_count": null,
   "metadata": {},
   "outputs": [],
   "source": [
    "chord_and_lyric_list = create_chord_lyrics_list(lines)\n",
    "st_chord = get_st_chord(chord_and_lyric_list)\n",
    "\n"
   ]
  },
  {
   "cell_type": "code",
   "execution_count": null,
   "metadata": {},
   "outputs": [],
   "source": [
    "try:\n",
    "    output = open(output_file, 'w')\n",
    "\n",
    "    for line in st_chord:\n",
    "        nline = line\n",
    "        output.write(line)\n",
    "        print(line)\n",
    "        output.write(\"\\n\")\n",
    "\n",
    "except FileNotFoundError:\n",
    "    print(\"Error: Output file not found.\")\n",
    "except Exception as e:\n",
    "    print(\"While writing An error occurred:\", str(e))\n",
    "\n"
   ]
  }
 ],
 "metadata": {
  "kernelspec": {
   "display_name": "Python 3",
   "language": "python",
   "name": "python3"
  },
  "language_info": {
   "codemirror_mode": {
    "name": "ipython",
    "version": 3
   },
   "file_extension": ".py",
   "mimetype": "text/x-python",
   "name": "python",
   "nbconvert_exporter": "python",
   "pygments_lexer": "ipython3",
   "version": "3.12.1"
  }
 },
 "nbformat": 4,
 "nbformat_minor": 4
}
